{
  "nbformat": 4,
  "nbformat_minor": 0,
  "metadata": {
    "colab": {
      "provenance": []
    },
    "kernelspec": {
      "name": "python3",
      "display_name": "Python 3"
    },
    "language_info": {
      "name": "python"
    }
  },
  "cells": [
    {
      "cell_type": "code",
      "execution_count": null,
      "metadata": {
        "id": "l2rcyxG3G1wA"
      },
      "outputs": [],
      "source": [
        "import scipy.io as sio\n",
        "\n",
        "# Load the .mat file\n",
        "mat_contents = sio.loadmat('/content/My drive/SynthText/SynthTextgt.mat')\n",
        "\n",
        "# Assuming 'imnames', 'wordBB', 'charBB', 'txt' are the keys\n",
        "imnames = mat_contents['imnames']\n",
        "wordBB = mat_contents['wordBB']\n",
        "charBB = mat_contents['charBB']\n",
        "txt = mat_contents['txt']\n",
        "\n",
        "# Select indices of the images you want to keep\n",
        "# Example: Keep first 1000 images of each selected folder\n",
        "indices_to_keep = range(1000)  # adjust this based on your criteria\n",
        "\n",
        "# Update the dictionaries by retaining only selected indices\n",
        "mat_contents['imnames'] = imnames[:, indices_to_keep]\n",
        "mat_contents['wordBB'] = wordBB[:, indices_to_keep]\n",
        "mat_contents['charBB'] = charBB[:, indices_to_keep]\n",
        "mat_contents['txt'] = txt[:, indices_to_keep]\n",
        "\n",
        "# Save the modified .mat file\n",
        "sio.savemat('modified_gt.mat', mat_contents)\n"
      ]
    },
    {
      "cell_type": "markdown",
      "source": [
        "Removing\n"
      ],
      "metadata": {
        "id": "FAW2Q0Cd0lpr"
      }
    },
    {
      "cell_type": "code",
      "source": [
        "import os\n",
        "import random\n",
        "import shutil\n",
        "import scipy.io as sio\n",
        "\n",
        "# Path to the SynthText directory and gt.mat file\n",
        "synthtext_dir = '/content/My drive/SynthText/'\n",
        "gt_file_path = '/content/My drive/SynthText/SynthTextgt.mat'\n",
        "\n",
        "# List all directories in the SynthText folder\n",
        "all_folders = [f for f in os.listdir(synthtext_dir) if os.path.isdir(os.path.join(synthtext_dir, f))]\n",
        "\n",
        "# Randomly select 20 folders\n",
        "selected_folders = random.sample(all_folders, 20)\n",
        "\n",
        "# Remove non-selected folders\n",
        "for folder in all_folders:\n",
        "    if folder not in selected_folders:\n",
        "        shutil.rmtree(os.path.join(synthtext_dir, folder))\n",
        "\n",
        "# Load the original gt.mat file\n",
        "mat_contents = sio.loadmat(gt_file_path)\n",
        "\n",
        "# Filter the annotations to include only those in the selected folders\n",
        "def filter_annotations(data, selected_folders):\n",
        "    filtered_indices = [i for i, name in enumerate(data['imnames'][0]) if any(folder in name[0] for folder in selected_folders)]\n",
        "    return data[:, filtered_indices]\n",
        "\n",
        "# Update the .mat content\n",
        "mat_contents['imnames'] = filter_annotations(mat_contents['imnames'], selected_folders)\n",
        "mat_contents['wordBB'] = filter_annotations(mat_contents['wordBB'], selected_folders)\n",
        "mat_contents['charBB'] = filter_annotations(mat_contents['charBB'], selected_folders)\n",
        "mat_contents['txt'] = filter_annotations(mat_contents['txt'], selected_folders)\n",
        "\n",
        "# Save the updated .mat file\n",
        "sio.savemat('updated_gt.mat', mat_contents)\n"
      ],
      "metadata": {
        "id": "vH2wlxkj0lTC"
      },
      "execution_count": null,
      "outputs": []
    },
    {
      "cell_type": "code",
      "source": [
        "import os\n",
        "import scipy.io as sio\n",
        "\n",
        "\n",
        "# Load the .mat file\n",
        "mat_contents = sio.loadmat(gt_file_path, squeeze_me=True)\n",
        "\n",
        "# Extract list of image filenames to keep from the .mat file\n",
        "images_to_keep = set([img[0] for img in mat_contents['imnames'][0]])\n",
        "\n",
        "# Function to delete images not listed in the gt.mat file\n",
        "def delete_unlisted_images(root_dir, keep_set):\n",
        "    for subdir, dirs, files in os.walk(root_dir):\n",
        "        for file in files:\n",
        "            if file.endswith(\".jpg\"):\n",
        "                # Check if the image is in the set of images to keep\n",
        "                image_path = os.path.relpath(os.path.join(subdir, file), start=root_dir)\n",
        "                if image_path not in keep_set:\n",
        "                    os.remove(os.path.join(subdir, file))\n",
        "                    print(f\"Deleted: {os.path.join(subdir, file)}\")\n",
        "\n",
        "# Call the function to delete unlisted images\n",
        "delete_unlisted_images(synthtext_dir, images_to_keep)\n"
      ],
      "metadata": {
        "id": "1iet50Hi023c"
      },
      "execution_count": null,
      "outputs": []
    }
  ]
}