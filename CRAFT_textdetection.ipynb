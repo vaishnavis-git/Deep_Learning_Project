{
 "cells": [
  {
   "cell_type": "markdown",
   "id": "6037cff1-e4d4-4f2a-80af-a1c140144dcb",
   "metadata": {},
   "source": [
    "Detect the text in the image:\n",
    "\n",
    "CRAFT:\n",
    "- Precision: CRAFT focuses on character-level detection, offering high precision, especially for detecting text with irregular spacing or in cluttered scenes.\n",
    "- Handling Curved Text: It excels at detecting curved or distorted text, making it ideal for challenging layouts where text does not follow a straight line.\n",
    "- Affinity Between Characters: CRAFT uses an affinity score to effectively group characters into words or text lines, even in cases where the text is closely packed or partially obscured.\n",
    "\n",
    "https://towardsdatascience.com/pytorch-scene-text-detection-and-recognition-by-craft-and-a-four-stage-network-ec814d39db05\n"
   ]
  },
  {
   "cell_type": "code",
   "execution_count": 2,
   "id": "ee51277c-422c-4744-aac9-d32d9bb51688",
   "metadata": {},
   "outputs": [
    {
     "ename": "ImportError",
     "evalue": "cannot import name 'model_urls' from 'torchvision.models.vgg' (/home/vaishnavi/miniconda3/envs/gentext/lib/python3.12/site-packages/torchvision/models/vgg.py)",
     "output_type": "error",
     "traceback": [
      "\u001b[0;31m---------------------------------------------------------------------------\u001b[0m",
      "\u001b[0;31mImportError\u001b[0m                               Traceback (most recent call last)",
      "Cell \u001b[0;32mIn[2], line 12\u001b[0m\n\u001b[1;32m      8\u001b[0m \u001b[38;5;28;01mimport\u001b[39;00m \u001b[38;5;21;01msys\u001b[39;00m\n\u001b[1;32m      9\u001b[0m sys\u001b[38;5;241m.\u001b[39mpath\u001b[38;5;241m.\u001b[39mappend(\u001b[38;5;124m'\u001b[39m\u001b[38;5;124mCRAFT-pytorch\u001b[39m\u001b[38;5;124m'\u001b[39m)  \u001b[38;5;66;03m# Assuming the notebook is in the same directory level as CRAFT-pytorch\u001b[39;00m\n\u001b[0;32m---> 12\u001b[0m \u001b[38;5;28;01mfrom\u001b[39;00m \u001b[38;5;21;01mcraft\u001b[39;00m \u001b[38;5;28;01mimport\u001b[39;00m CRAFT  \u001b[38;5;66;03m# Ensure the CRAFT model code is in your working directory or adjust the import path.\u001b[39;00m\n\u001b[1;32m     13\u001b[0m \u001b[38;5;28;01mfrom\u001b[39;00m \u001b[38;5;21;01mcraft_utils\u001b[39;00m \u001b[38;5;28;01mimport\u001b[39;00m getDetBoxes, adjustResultCoordinates\n\u001b[1;32m     14\u001b[0m \u001b[38;5;28;01mfrom\u001b[39;00m \u001b[38;5;21;01mimgproc\u001b[39;00m \u001b[38;5;28;01mimport\u001b[39;00m resize_aspect_ratio, normalizeMeanVariance\n",
      "File \u001b[0;32m~/GenText_DLProject/CRAFT-pytorch/craft.py:11\u001b[0m\n\u001b[1;32m      8\u001b[0m \u001b[38;5;28;01mimport\u001b[39;00m \u001b[38;5;21;01mtorch\u001b[39;00m\u001b[38;5;21;01m.\u001b[39;00m\u001b[38;5;21;01mnn\u001b[39;00m \u001b[38;5;28;01mas\u001b[39;00m \u001b[38;5;21;01mnn\u001b[39;00m\n\u001b[1;32m      9\u001b[0m \u001b[38;5;28;01mimport\u001b[39;00m \u001b[38;5;21;01mtorch\u001b[39;00m\u001b[38;5;21;01m.\u001b[39;00m\u001b[38;5;21;01mnn\u001b[39;00m\u001b[38;5;21;01m.\u001b[39;00m\u001b[38;5;21;01mfunctional\u001b[39;00m \u001b[38;5;28;01mas\u001b[39;00m \u001b[38;5;21;01mF\u001b[39;00m\n\u001b[0;32m---> 11\u001b[0m \u001b[38;5;28;01mfrom\u001b[39;00m \u001b[38;5;21;01mbasenet\u001b[39;00m\u001b[38;5;21;01m.\u001b[39;00m\u001b[38;5;21;01mvgg16_bn\u001b[39;00m \u001b[38;5;28;01mimport\u001b[39;00m vgg16_bn, init_weights\n\u001b[1;32m     13\u001b[0m \u001b[38;5;28;01mclass\u001b[39;00m \u001b[38;5;21;01mdouble_conv\u001b[39;00m(nn\u001b[38;5;241m.\u001b[39mModule):\n\u001b[1;32m     14\u001b[0m     \u001b[38;5;28;01mdef\u001b[39;00m \u001b[38;5;21m__init__\u001b[39m(\u001b[38;5;28mself\u001b[39m, in_ch, mid_ch, out_ch):\n",
      "File \u001b[0;32m~/GenText_DLProject/CRAFT-pytorch/basenet/vgg16_bn.py:7\u001b[0m\n\u001b[1;32m      5\u001b[0m \u001b[38;5;28;01mimport\u001b[39;00m \u001b[38;5;21;01mtorch\u001b[39;00m\u001b[38;5;21;01m.\u001b[39;00m\u001b[38;5;21;01mnn\u001b[39;00m\u001b[38;5;21;01m.\u001b[39;00m\u001b[38;5;21;01minit\u001b[39;00m \u001b[38;5;28;01mas\u001b[39;00m \u001b[38;5;21;01minit\u001b[39;00m\n\u001b[1;32m      6\u001b[0m \u001b[38;5;28;01mfrom\u001b[39;00m \u001b[38;5;21;01mtorchvision\u001b[39;00m \u001b[38;5;28;01mimport\u001b[39;00m models\n\u001b[0;32m----> 7\u001b[0m \u001b[38;5;28;01mfrom\u001b[39;00m \u001b[38;5;21;01mtorchvision\u001b[39;00m\u001b[38;5;21;01m.\u001b[39;00m\u001b[38;5;21;01mmodels\u001b[39;00m\u001b[38;5;21;01m.\u001b[39;00m\u001b[38;5;21;01mvgg\u001b[39;00m \u001b[38;5;28;01mimport\u001b[39;00m model_urls\n\u001b[1;32m      9\u001b[0m \u001b[38;5;28;01mdef\u001b[39;00m \u001b[38;5;21minit_weights\u001b[39m(modules):\n\u001b[1;32m     10\u001b[0m     \u001b[38;5;28;01mfor\u001b[39;00m m \u001b[38;5;129;01min\u001b[39;00m modules:\n",
      "\u001b[0;31mImportError\u001b[0m: cannot import name 'model_urls' from 'torchvision.models.vgg' (/home/vaishnavi/miniconda3/envs/gentext/lib/python3.12/site-packages/torchvision/models/vgg.py)"
     ]
    }
   ],
   "source": [
    "import torch\n",
    "from torch.autograd import Variable\n",
    "from torchvision import transforms\n",
    "\n",
    "import cv2\n",
    "import numpy as np\n",
    "\n",
    "import sys\n",
    "sys.path.append('CRAFT-pytorch')  # Assuming the notebook is in the same directory level as CRAFT-pytorch\n",
    "\n",
    "\n",
    "from craft import CRAFT  # Ensure the CRAFT model code is in your working directory or adjust the import path.\n",
    "from craft_utils import getDetBoxes, adjustResultCoordinates\n",
    "from imgproc import resize_aspect_ratio, normalizeMeanVariance\n",
    "from file_utils import load_model"
   ]
  },
  {
   "cell_type": "code",
   "execution_count": 2,
   "id": "ba46f957-2ac2-470b-87df-251836473e7f",
   "metadata": {},
   "outputs": [
    {
     "ename": "NameError",
     "evalue": "name 'CRAFT' is not defined",
     "output_type": "error",
     "traceback": [
      "\u001b[0;31m---------------------------------------------------------------------------\u001b[0m",
      "\u001b[0;31mNameError\u001b[0m                                 Traceback (most recent call last)",
      "Cell \u001b[0;32mIn[2], line 10\u001b[0m\n\u001b[1;32m      7\u001b[0m use_cuda \u001b[38;5;241m=\u001b[39m torch\u001b[38;5;241m.\u001b[39mcuda\u001b[38;5;241m.\u001b[39mis_available()\n\u001b[1;32m      9\u001b[0m \u001b[38;5;66;03m# Load the CRAFT model\u001b[39;00m\n\u001b[0;32m---> 10\u001b[0m net \u001b[38;5;241m=\u001b[39m \u001b[43mCRAFT\u001b[49m()\n\u001b[1;32m     11\u001b[0m net\u001b[38;5;241m.\u001b[39mload_state_dict(copyStateDict(torch\u001b[38;5;241m.\u001b[39mload(pretrained_model_path)))\n\u001b[1;32m     12\u001b[0m \u001b[38;5;28;01mif\u001b[39;00m use_cuda:\n",
      "\u001b[0;31mNameError\u001b[0m: name 'CRAFT' is not defined"
     ]
    }
   ],
   "source": [
    "pretrained_model_path = 'craft_mlt_25k.pth'\n",
    "image_folder_path = 'images/'\n",
    "output_folder_path = 'results/'\n",
    "\n",
    "use_cuda = torch.cuda.is_available()\n",
    "\n",
    "# Loading CRAFT\n",
    "net = CRAFT()\n",
    "net.load_state_dict(copyStateDict(torch.load(pretrained_model_path)))\n",
    "if use_cuda:\n",
    "    net = net.cuda()\n",
    "    net = torch.nn.DataParallel(net)\n",
    "    cudnn.benchmark = False\n",
    "net.eval()"
   ]
  },
  {
   "cell_type": "code",
   "execution_count": null,
   "id": "53dee61d-f0ac-4bd7-93be-b7e98637fd54",
   "metadata": {},
   "outputs": [],
   "source": [
    "# Image processing\n",
    "def process_image(image_path):\n",
    "    image = cv2.imread(image_path)\n",
    "    bboxes, polys = test_net(net, image, use_cuda)\n",
    "    return image, polys\n",
    "\n",
    "# Main detection function\n",
    "def test_net(net, image, use_cuda):\n",
    "    # Resize the image\n",
    "    img_resized, target_ratio, size_heatmap = resize_aspect_ratio(image, 1280, interpolation=cv2.INTER_LINEAR, mag_ratio=1.5)\n",
    "    ratio_h = ratio_w = 1 / target_ratio\n",
    "\n",
    "    # Preprocessing\n",
    "    x = normalizeMeanVariance(img_resized)\n",
    "    x = torch.from_numpy(x).permute(2, 0, 1)  # [H, W, C] to [C, H, W]\n",
    "    x = Variable(x.unsqueeze(0))  # Add batch dimension\n",
    "\n",
    "    if use_cuda:\n",
    "        x = x.cuda()\n",
    "\n",
    "    # Forward pass\n",
    "    with torch.no_grad():\n",
    "        y, _ = net(x)\n",
    "\n",
    "    # Make score and link map\n",
    "    score_text = y[0,:,:,0].cpu().data.numpy()\n",
    "    score_link = y[0,:,:,1].cpu().data.numpy()\n",
    "\n",
    "    # Post-processing\n",
    "    boxes, polys = getDetBoxes(score_text, score_link, use_cuda)\n",
    "    boxes = adjustResultCoordinates(boxes, ratio_w, ratio_h)\n",
    "    polys = adjustResultCoordinates(polys, ratio_w, ratio_h)\n",
    "\n",
    "    return boxes, polys"
   ]
  },
  {
   "cell_type": "code",
   "execution_count": null,
   "id": "16b56983-d5a5-4515-9707-156e91c75d75",
   "metadata": {},
   "outputs": [],
   "source": [
    "import os\n",
    "\n",
    "# Create output folder\n",
    "if not os.path.exists(output_folder_path):\n",
    "    os.makedirs(output_folder_path)\n",
    "\n",
    "# Process each image in the folder\n",
    "for image_name in os.listdir(image_folder_path):\n",
    "    image_path = os.path.join(image_folder_path, image_name)\n",
    "    image, polys = process_image(image_path)\n",
    "    \n",
    "    # Visualize and save results\n",
    "    for i, poly in enumerate(polys):\n",
    "        poly = np.array(poly, np.int32).reshape((-1))\n",
    "        poly = poly.reshape(-1, 2)\n",
    "        cv2.polylines(image, [poly], True, color=(0, 255, 0), thickness=2)\n",
    "    \n",
    "    cv2.imwrite(os.path.join(output_folder_path, image_name), image)"
   ]
  }
 ],
 "metadata": {
  "kernelspec": {
   "display_name": "GenText",
   "language": "python",
   "name": "gentext"
  },
  "language_info": {
   "codemirror_mode": {
    "name": "ipython",
    "version": 3
   },
   "file_extension": ".py",
   "mimetype": "text/x-python",
   "name": "python",
   "nbconvert_exporter": "python",
   "pygments_lexer": "ipython3",
   "version": "3.12.2"
  }
 },
 "nbformat": 4,
 "nbformat_minor": 5
}
